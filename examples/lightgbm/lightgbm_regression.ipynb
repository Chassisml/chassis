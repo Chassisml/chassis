{
 "cells": [
  {
   "cell_type": "markdown",
   "metadata": {},
   "source": [
    "TODO: Fix Error below"
   ]
  },
  {
   "cell_type": "markdown",
   "metadata": {},
   "source": [
    "## Chassis Example Notebooks\n",
    "Welcome to the examples section for [Chassis](https://chassis.ml), which contains notebooks that auto-containerize models built using the most common machine learning (ML) frameworks. \n",
    "\n",
    "#### What is Chassis?\n",
    "Chassis allows you to automatically create a Docker container from your model code and push that container image to a Docker registry. All you need is your model loaded into memory and a few lines of Chassis code! Our example bank is here to provide reference examples for many common ML frameworks.  \n",
    "\n",
    "Can't find the framework you are looking for or need help? Fork this repository and open a PR, or list the desired framework in a new issue. We're always interested in growing this example bank! \n",
    "\n",
    "The primary maintainers of Chassis also actively monitor our [Discord Server](https://discord.gg/cHpzY9yCcM), so feel free to join and ask any questions you might have. We'll be there to respond and help out promptly."
   ]
  },
  {
   "cell_type": "code",
   "execution_count": 1,
   "metadata": {},
   "outputs": [],
   "source": [
    "import os\n",
    "import math\n",
    "import json\n",
    "import chassisml\n",
    "import getpass\n",
    "import numpy as np\n",
    "import pandas as pd\n",
    "import matplotlib.pyplot as plt\n",
    "%matplotlib inline\n",
    "import seaborn as sns\n",
    "from io import StringIO\n",
    "import lightgbm as lgb\n",
    "from sklearn.model_selection import train_test_split\n",
    "from sklearn.metrics import mean_squared_log_error\n",
    "from sklearn import preprocessing\n",
    "from sklearn.preprocessing import StandardScaler, PolynomialFeatures\n",
    "from sklearn.impute import SimpleImputer\n",
    "from sklearn.model_selection import cross_val_score, cross_val_predict\n",
    "from scipy.stats import norm"
   ]
  },
  {
   "cell_type": "markdown",
   "metadata": {},
   "source": [
    "## Enter credentials\n",
    "Dockerhub creds and Modzy API Key"
   ]
  },
  {
   "cell_type": "code",
   "execution_count": 2,
   "metadata": {},
   "outputs": [
    {
     "name": "stdout",
     "output_type": "stream",
     "text": [
      "docker hub username········\n",
      "docker hub password········\n"
     ]
    }
   ],
   "source": [
    "dockerhub_user = getpass.getpass('docker hub username')\n",
    "dockerhub_pass = getpass.getpass('docker hub password')"
   ]
  },
  {
   "cell_type": "markdown",
   "metadata": {},
   "source": [
    "## Data Engineering"
   ]
  },
  {
   "cell_type": "code",
   "execution_count": 3,
   "metadata": {},
   "outputs": [
    {
     "name": "stdout",
     "output_type": "stream",
     "text": [
      "Shape train: (1460, 81), test: (1459, 80)\n"
     ]
    }
   ],
   "source": [
    "# load house price dataset\n",
    "df_train = pd.read_csv(\"./data/train.csv\")\n",
    "df_test = pd.read_csv(\"./data/test.csv\")\n",
    "print(\"Shape train: %s, test: %s\" % (df_train.shape, df_test.shape))"
   ]
  },
  {
   "cell_type": "code",
   "execution_count": 4,
   "metadata": {},
   "outputs": [
    {
     "data": {
      "text/html": [
       "<div>\n",
       "<style scoped>\n",
       "    .dataframe tbody tr th:only-of-type {\n",
       "        vertical-align: middle;\n",
       "    }\n",
       "\n",
       "    .dataframe tbody tr th {\n",
       "        vertical-align: top;\n",
       "    }\n",
       "\n",
       "    .dataframe thead th {\n",
       "        text-align: right;\n",
       "    }\n",
       "</style>\n",
       "<table border=\"1\" class=\"dataframe\">\n",
       "  <thead>\n",
       "    <tr style=\"text-align: right;\">\n",
       "      <th></th>\n",
       "      <th>Id</th>\n",
       "      <th>MSSubClass</th>\n",
       "      <th>MSZoning</th>\n",
       "      <th>LotFrontage</th>\n",
       "      <th>LotArea</th>\n",
       "      <th>Street</th>\n",
       "      <th>Alley</th>\n",
       "      <th>LotShape</th>\n",
       "      <th>LandContour</th>\n",
       "      <th>Utilities</th>\n",
       "      <th>...</th>\n",
       "      <th>PoolArea</th>\n",
       "      <th>PoolQC</th>\n",
       "      <th>Fence</th>\n",
       "      <th>MiscFeature</th>\n",
       "      <th>MiscVal</th>\n",
       "      <th>MoSold</th>\n",
       "      <th>YrSold</th>\n",
       "      <th>SaleType</th>\n",
       "      <th>SaleCondition</th>\n",
       "      <th>SalePrice</th>\n",
       "    </tr>\n",
       "  </thead>\n",
       "  <tbody>\n",
       "    <tr>\n",
       "      <th>438</th>\n",
       "      <td>439</td>\n",
       "      <td>30</td>\n",
       "      <td>RL</td>\n",
       "      <td>40.0</td>\n",
       "      <td>4280</td>\n",
       "      <td>Pave</td>\n",
       "      <td>NaN</td>\n",
       "      <td>Reg</td>\n",
       "      <td>Lvl</td>\n",
       "      <td>AllPub</td>\n",
       "      <td>...</td>\n",
       "      <td>0</td>\n",
       "      <td>NaN</td>\n",
       "      <td>MnPrv</td>\n",
       "      <td>NaN</td>\n",
       "      <td>0</td>\n",
       "      <td>3</td>\n",
       "      <td>2007</td>\n",
       "      <td>WD</td>\n",
       "      <td>Normal</td>\n",
       "      <td>90350</td>\n",
       "    </tr>\n",
       "    <tr>\n",
       "      <th>249</th>\n",
       "      <td>250</td>\n",
       "      <td>50</td>\n",
       "      <td>RL</td>\n",
       "      <td>NaN</td>\n",
       "      <td>159000</td>\n",
       "      <td>Pave</td>\n",
       "      <td>NaN</td>\n",
       "      <td>IR2</td>\n",
       "      <td>Low</td>\n",
       "      <td>AllPub</td>\n",
       "      <td>...</td>\n",
       "      <td>0</td>\n",
       "      <td>NaN</td>\n",
       "      <td>NaN</td>\n",
       "      <td>Shed</td>\n",
       "      <td>500</td>\n",
       "      <td>6</td>\n",
       "      <td>2007</td>\n",
       "      <td>WD</td>\n",
       "      <td>Normal</td>\n",
       "      <td>277000</td>\n",
       "    </tr>\n",
       "    <tr>\n",
       "      <th>202</th>\n",
       "      <td>203</td>\n",
       "      <td>50</td>\n",
       "      <td>RL</td>\n",
       "      <td>50.0</td>\n",
       "      <td>7000</td>\n",
       "      <td>Pave</td>\n",
       "      <td>NaN</td>\n",
       "      <td>Reg</td>\n",
       "      <td>Lvl</td>\n",
       "      <td>AllPub</td>\n",
       "      <td>...</td>\n",
       "      <td>0</td>\n",
       "      <td>NaN</td>\n",
       "      <td>NaN</td>\n",
       "      <td>NaN</td>\n",
       "      <td>0</td>\n",
       "      <td>5</td>\n",
       "      <td>2006</td>\n",
       "      <td>COD</td>\n",
       "      <td>Normal</td>\n",
       "      <td>112000</td>\n",
       "    </tr>\n",
       "  </tbody>\n",
       "</table>\n",
       "<p>3 rows × 81 columns</p>\n",
       "</div>"
      ],
      "text/plain": [
       "      Id  MSSubClass MSZoning  LotFrontage  LotArea Street Alley LotShape  \\\n",
       "438  439          30       RL         40.0     4280   Pave   NaN      Reg   \n",
       "249  250          50       RL          NaN   159000   Pave   NaN      IR2   \n",
       "202  203          50       RL         50.0     7000   Pave   NaN      Reg   \n",
       "\n",
       "    LandContour Utilities  ... PoolArea PoolQC  Fence MiscFeature MiscVal  \\\n",
       "438         Lvl    AllPub  ...        0    NaN  MnPrv         NaN       0   \n",
       "249         Low    AllPub  ...        0    NaN    NaN        Shed     500   \n",
       "202         Lvl    AllPub  ...        0    NaN    NaN         NaN       0   \n",
       "\n",
       "    MoSold YrSold  SaleType  SaleCondition  SalePrice  \n",
       "438      3   2007        WD         Normal      90350  \n",
       "249      6   2007        WD         Normal     277000  \n",
       "202      5   2006       COD         Normal     112000  \n",
       "\n",
       "[3 rows x 81 columns]"
      ]
     },
     "execution_count": 4,
     "metadata": {},
     "output_type": "execute_result"
    }
   ],
   "source": [
    "df_train.sample(3)"
   ]
  },
  {
   "cell_type": "code",
   "execution_count": 5,
   "metadata": {},
   "outputs": [
    {
     "data": {
      "text/html": [
       "<div>\n",
       "<style scoped>\n",
       "    .dataframe tbody tr th:only-of-type {\n",
       "        vertical-align: middle;\n",
       "    }\n",
       "\n",
       "    .dataframe tbody tr th {\n",
       "        vertical-align: top;\n",
       "    }\n",
       "\n",
       "    .dataframe thead th {\n",
       "        text-align: right;\n",
       "    }\n",
       "</style>\n",
       "<table border=\"1\" class=\"dataframe\">\n",
       "  <thead>\n",
       "    <tr style=\"text-align: right;\">\n",
       "      <th></th>\n",
       "      <th>Missing Ratio</th>\n",
       "    </tr>\n",
       "  </thead>\n",
       "  <tbody>\n",
       "    <tr>\n",
       "      <th>PoolQC</th>\n",
       "      <td>99.520548</td>\n",
       "    </tr>\n",
       "    <tr>\n",
       "      <th>MiscFeature</th>\n",
       "      <td>96.301370</td>\n",
       "    </tr>\n",
       "    <tr>\n",
       "      <th>Alley</th>\n",
       "      <td>93.767123</td>\n",
       "    </tr>\n",
       "    <tr>\n",
       "      <th>Fence</th>\n",
       "      <td>80.753425</td>\n",
       "    </tr>\n",
       "    <tr>\n",
       "      <th>FireplaceQu</th>\n",
       "      <td>47.260274</td>\n",
       "    </tr>\n",
       "    <tr>\n",
       "      <th>LotFrontage</th>\n",
       "      <td>17.739726</td>\n",
       "    </tr>\n",
       "    <tr>\n",
       "      <th>GarageType</th>\n",
       "      <td>5.547945</td>\n",
       "    </tr>\n",
       "    <tr>\n",
       "      <th>GarageYrBlt</th>\n",
       "      <td>5.547945</td>\n",
       "    </tr>\n",
       "    <tr>\n",
       "      <th>GarageFinish</th>\n",
       "      <td>5.547945</td>\n",
       "    </tr>\n",
       "    <tr>\n",
       "      <th>GarageQual</th>\n",
       "      <td>5.547945</td>\n",
       "    </tr>\n",
       "  </tbody>\n",
       "</table>\n",
       "</div>"
      ],
      "text/plain": [
       "              Missing Ratio\n",
       "PoolQC            99.520548\n",
       "MiscFeature       96.301370\n",
       "Alley             93.767123\n",
       "Fence             80.753425\n",
       "FireplaceQu       47.260274\n",
       "LotFrontage       17.739726\n",
       "GarageType         5.547945\n",
       "GarageYrBlt        5.547945\n",
       "GarageFinish       5.547945\n",
       "GarageQual         5.547945"
      ]
     },
     "execution_count": 5,
     "metadata": {},
     "output_type": "execute_result"
    }
   ],
   "source": [
    "# preprocess data\n",
    "df_na = (df_train.isnull().sum() / len(df_train)) * 100\n",
    "df_na = df_na.drop(df_na[df_na == 0].index).sort_values(ascending=False)[:30]\n",
    "missing_data = pd.DataFrame({'Missing Ratio' :df_na})\n",
    "missing_data.head(10)"
   ]
  },
  {
   "cell_type": "code",
   "execution_count": 6,
   "metadata": {},
   "outputs": [
    {
     "name": "stderr",
     "output_type": "stream",
     "text": [
      "C:\\tools\\Anaconda3\\envs\\modzy\\lib\\site-packages\\seaborn\\distributions.py:2619: FutureWarning: `distplot` is a deprecated function and will be removed in a future version. Please adapt your code to use either `displot` (a figure-level function with similar flexibility) or `histplot` (an axes-level function for histograms).\n",
      "  warnings.warn(msg, FutureWarning)\n",
      "C:\\tools\\Anaconda3\\envs\\modzy\\lib\\site-packages\\seaborn\\distributions.py:2619: FutureWarning: `distplot` is a deprecated function and will be removed in a future version. Please adapt your code to use either `displot` (a figure-level function with similar flexibility) or `histplot` (an axes-level function for histograms).\n",
      "  warnings.warn(msg, FutureWarning)\n"
     ]
    },
    {
     "data": {
      "text/plain": [
       "<AxesSubplot:xlabel='SalePrice', ylabel='Density'>"
      ]
     },
     "execution_count": 6,
     "metadata": {},
     "output_type": "execute_result"
    },
    {
     "data": {
      "image/png": "[encoded data removed]",
      "text/plain": [
       "<Figure size 864x288 with 2 Axes>"
      ]
     },
     "metadata": {
      "needs_background": "light"
     },
     "output_type": "display_data"
    }
   ],
   "source": [
    "fig, ax = plt.subplots(1,2)\n",
    "width, height = fig.get_size_inches()\n",
    "fig.set_size_inches(width*2, height)\n",
    "sns.distplot(df_train['SalePrice'], ax=ax[0], fit=norm)\n",
    "sns.distplot(np.log(df_train[('SalePrice')]+1), ax=ax[1], fit= norm)"
   ]
  },
  {
   "cell_type": "code",
   "execution_count": 7,
   "metadata": {},
   "outputs": [],
   "source": [
    "def fill_missing(df, cols, val):\n",
    "    \"\"\" Fill with the supplied val \"\"\"\n",
    "    for col in cols:\n",
    "        df[col] = df[col].fillna(val)\n",
    "\n",
    "def fill_missing_with_mode(df, cols):\n",
    "    \"\"\" Fill with the mode \"\"\"\n",
    "    for col in cols:\n",
    "        df[col] = df[col].fillna(df[col].mode()[0])\n",
    "        \n",
    "def addlogs(res, cols):\n",
    "    \"\"\" Log transform feature list\"\"\"\n",
    "    m = res.shape[1]\n",
    "    for c in cols:\n",
    "        res = res.assign(newcol=pd.Series(np.log(1.01+res[c])).values)   \n",
    "        res.columns.values[m] = c + '_log'\n",
    "        m += 1\n",
    "    return res"
   ]
  },
  {
   "cell_type": "code",
   "execution_count": 8,
   "metadata": {},
   "outputs": [],
   "source": [
    "df_train['TotalSF'] = df_train['TotalBsmtSF'] + df_train['1stFlrSF'] + df_train['2ndFlrSF']\n",
    "loglist = ['LotFrontage','LotArea','MasVnrArea','BsmtFinSF1','BsmtFinSF2','BsmtUnfSF',\n",
    "                 'TotalBsmtSF','1stFlrSF','2ndFlrSF','LowQualFinSF','GrLivArea',\n",
    "                 'BsmtFullBath','BsmtHalfBath','FullBath','HalfBath','BedroomAbvGr','KitchenAbvGr',\n",
    "                 'TotRmsAbvGrd','Fireplaces','GarageCars','GarageArea','WoodDeckSF','OpenPorchSF',\n",
    "                 'EnclosedPorch','3SsnPorch','ScreenPorch','PoolArea','MiscVal','YearRemodAdd','TotalSF']\n",
    "\n",
    "df_train = addlogs(df_train, loglist)\n",
    "df_train[\"SalePrice\"] = np.log1p(df_train[\"SalePrice\"])"
   ]
  },
  {
   "cell_type": "code",
   "execution_count": 9,
   "metadata": {},
   "outputs": [],
   "source": [
    "fill_missing(df_train, [\"PoolQC\", \"MiscFeature\", \"Alley\", \"Fence\", \"FireplaceQu\", \n",
    "                        \"GarageType\", \"GarageFinish\", \"GarageQual\", \"GarageCond\",\n",
    "                       'BsmtQual', 'BsmtCond', 'BsmtExposure', 'BsmtFinType1', 'BsmtFinType2',\n",
    "                       \"MasVnrType\", \"MSSubClass\"], \"None\")\n",
    "fill_missing(df_train, [\"GarageYrBlt\", \"GarageArea\", \"GarageCars\",\n",
    "                       'BsmtFinSF1', 'BsmtFinSF2', 'BsmtUnfSF','TotalBsmtSF', 'BsmtFullBath', 'BsmtHalfBath',\n",
    "                       \"MasVnrArea\"], 0)\n",
    "fill_missing_with_mode(df_train, [\"MSZoning\", \"KitchenQual\", \"Exterior1st\", \"Exterior2nd\", \"SaleType\"])\n",
    "fill_missing(df_train, [\"Functional\"],\"Typ\")\n",
    "# Utils is pointless as there is only one row with a value\n",
    "df_train.drop(['Utilities'], axis=1, inplace=True)\n",
    "# For lot frontage we take the median of the neighbourhood. In general this would be a good approximation as most \n",
    "# house co located are similar in size \n",
    "df_train[\"LotFrontage\"] = df_train.groupby(\"Neighborhood\")[\"LotFrontage\"].transform(\n",
    "    lambda x: x.fillna(x.median()))"
   ]
  },
  {
   "cell_type": "code",
   "execution_count": 10,
   "metadata": {},
   "outputs": [],
   "source": [
    "df_train.drop(df_train[(df_train['OverallQual']<5) & (df_train['SalePrice']>200000)].index, inplace=True)\n",
    "df_train.drop(df_train[(df_train['GrLivArea']>4000) & (df_train['SalePrice']<300000)].index, inplace=True)\n",
    "df_train.reset_index(drop=True, inplace=True)\n",
    "df_train['MSSubClass'] = df_train['MSSubClass'].apply(str)\n",
    "df_train['YrSold'] = df_train['YrSold'].astype(str)\n",
    "df_train['MoSold'] = df_train['MoSold'].astype(str)"
   ]
  },
  {
   "cell_type": "code",
   "execution_count": 11,
   "metadata": {},
   "outputs": [],
   "source": [
    "def fix_missing_cols(in_train, in_test):\n",
    "    missing_cols = set(in_train.columns) - set(in_test.columns)\n",
    "    # Add a missing column in test set with default value equal to 0\n",
    "    for c in missing_cols:\n",
    "        in_test[c] = 0\n",
    "    # Ensure the order of column in the test set is in the same order than in train set\n",
    "    in_test = in_test[in_train.columns]\n",
    "    return in_test\n",
    "\n",
    "def dummy_encode(in_df_train, in_df_test):\n",
    "    df_train = in_df_train\n",
    "    df_test = in_df_test\n",
    "    categorical_feats = [\n",
    "        f for f in df_train.columns if df_train[f].dtype == 'object'\n",
    "    ]\n",
    "    print(categorical_feats)\n",
    "    for f_ in categorical_feats:\n",
    "        prefix = f_\n",
    "        df_train = pd.concat([df_train, pd.get_dummies(df_train[f_], prefix=prefix)], axis=1).drop(f_, axis=1)\n",
    "        df_test = pd.concat([df_test, pd.get_dummies(df_test[f_], prefix=prefix)], axis=1).drop(f_, axis=1)\n",
    "        df_test = fix_missing_cols(df_train, df_test)\n",
    "    return df_train, df_test"
   ]
  },
  {
   "cell_type": "code",
   "execution_count": 12,
   "metadata": {},
   "outputs": [
    {
     "name": "stdout",
     "output_type": "stream",
     "text": [
      "['MSSubClass', 'MSZoning', 'Street', 'Alley', 'LotShape', 'LandContour', 'LotConfig', 'LandSlope', 'Neighborhood', 'Condition1', 'Condition2', 'BldgType', 'HouseStyle', 'RoofStyle', 'RoofMatl', 'Exterior1st', 'Exterior2nd', 'MasVnrType', 'ExterQual', 'ExterCond', 'Foundation', 'BsmtQual', 'BsmtCond', 'BsmtExposure', 'BsmtFinType1', 'BsmtFinType2', 'Heating', 'HeatingQC', 'CentralAir', 'Electrical', 'KitchenQual', 'Functional', 'FireplaceQu', 'GarageType', 'GarageFinish', 'GarageQual', 'GarageCond', 'PavedDrive', 'PoolQC', 'Fence', 'MiscFeature', 'MoSold', 'YrSold', 'SaleType', 'SaleCondition']\n",
      "Shape train: (1456, 361), test: (1459, 361)\n"
     ]
    }
   ],
   "source": [
    "df_train, df_test = dummy_encode(df_train, df_test)\n",
    "print(\"Shape train: %s, test: %s\" % (df_train.shape, df_test.shape))"
   ]
  },
  {
   "cell_type": "code",
   "execution_count": 13,
   "metadata": {},
   "outputs": [],
   "source": [
    "def load_poly_features(df_train, df_test, cols):\n",
    "    \"\"\"\n",
    "    USeful function to generate poly terms\n",
    "    :param df_train: The training data frame\n",
    "    :param df_test: The test data frame\n",
    "    :return: df_poly_features, df_poly_features_test - The training polynomial features + the test\n",
    "    \"\"\"\n",
    "    print('Loading polynomial features..')\n",
    "    # Make a new dataframe for polynomial features\n",
    "    poly_features = df_train[cols]\n",
    "    poly_features_test = df_test[cols]\n",
    "\n",
    "    # imputer for handling missing values\n",
    "    imputer = SimpleImputer(strategy='median')\n",
    "\n",
    "    # Need to impute missing values\n",
    "    poly_features = imputer.fit_transform(poly_features)\n",
    "    poly_features_test = imputer.transform(poly_features_test)\n",
    "\n",
    "    # Create the polynomial object with specified degree\n",
    "    poly_transformer = PolynomialFeatures(degree=3)\n",
    "    # Train the polynomial features\n",
    "    poly_transformer.fit(poly_features)\n",
    "\n",
    "    # Transform the features\n",
    "    poly_features = poly_transformer.transform(poly_features)\n",
    "    poly_features_test = poly_transformer.transform(poly_features_test)\n",
    "    print('Polynomial Features shape: %s' % str(poly_features.shape))\n",
    "\n",
    "    df_poly_features = pd.DataFrame(poly_features,\n",
    "                                    columns=poly_transformer.get_feature_names(cols))\n",
    "    df_poly_features_test = pd.DataFrame(poly_features_test,\n",
    "                                         columns=poly_transformer.get_feature_names(cols))\n",
    "    df_poly_features['Id'] = df_train['Id']\n",
    "    df_poly_features_test['Id'] = df_test['Id']\n",
    "    print('Loaded polynomial features')\n",
    "    return df_poly_features, df_poly_features_test"
   ]
  },
  {
   "cell_type": "code",
   "execution_count": 14,
   "metadata": {},
   "outputs": [
    {
     "name": "stdout",
     "output_type": "stream",
     "text": [
      "Loading polynomial features..\n",
      "Polynomial Features shape: (1456, 84)\n"
     ]
    },
    {
     "ename": "AttributeError",
     "evalue": "'PolynomialFeatures' object has no attribute 'get_feature_names'",
     "output_type": "error",
     "traceback": [
      "\u001b[1;31m---------------------------------------------------------------------------\u001b[0m",
      "\u001b[1;31mAttributeError\u001b[0m                            Traceback (most recent call last)",
      "\u001b[1;32mC:\\Users\\BRADLE~1\\AppData\\Local\\Temp/ipykernel_21068/1688387615.py\u001b[0m in \u001b[0;36m<module>\u001b[1;34m\u001b[0m\n\u001b[0;32m      1\u001b[0m \u001b[0mcorrelated_cols\u001b[0m \u001b[1;33m=\u001b[0m \u001b[1;33m[\u001b[0m\u001b[1;34m'OverallQual'\u001b[0m\u001b[1;33m,\u001b[0m \u001b[1;34m'GrLivArea'\u001b[0m\u001b[1;33m,\u001b[0m \u001b[1;34m'GarageCars'\u001b[0m\u001b[1;33m,\u001b[0m \u001b[1;34m'GarageArea'\u001b[0m\u001b[1;33m,\u001b[0m \u001b[1;34m'TotalBsmtSF'\u001b[0m\u001b[1;33m,\u001b[0m \u001b[1;34m'1stFlrSF'\u001b[0m\u001b[1;33m]\u001b[0m\u001b[1;33m\u001b[0m\u001b[1;33m\u001b[0m\u001b[0m\n\u001b[1;32m----> 2\u001b[1;33m \u001b[0mdf_train_poly\u001b[0m\u001b[1;33m,\u001b[0m \u001b[0mdf_test_poly\u001b[0m \u001b[1;33m=\u001b[0m  \u001b[0mload_poly_features\u001b[0m\u001b[1;33m(\u001b[0m\u001b[0mdf_train\u001b[0m\u001b[1;33m,\u001b[0m \u001b[0mdf_test\u001b[0m\u001b[1;33m,\u001b[0m \u001b[0mcols\u001b[0m\u001b[1;33m=\u001b[0m\u001b[0mcorrelated_cols\u001b[0m\u001b[1;33m)\u001b[0m\u001b[1;33m\u001b[0m\u001b[1;33m\u001b[0m\u001b[0m\n\u001b[0m\u001b[0;32m      3\u001b[0m \u001b[0mprint\u001b[0m\u001b[1;33m(\u001b[0m\u001b[1;34m\"Shape train: %s, test: %s\"\u001b[0m \u001b[1;33m%\u001b[0m \u001b[1;33m(\u001b[0m\u001b[0mdf_train_poly\u001b[0m\u001b[1;33m.\u001b[0m\u001b[0mshape\u001b[0m\u001b[1;33m,\u001b[0m \u001b[0mdf_test_poly\u001b[0m\u001b[1;33m.\u001b[0m\u001b[0mshape\u001b[0m\u001b[1;33m)\u001b[0m\u001b[1;33m)\u001b[0m\u001b[1;33m\u001b[0m\u001b[1;33m\u001b[0m\u001b[0m\n",
      "\u001b[1;32mC:\\Users\\BRADLE~1\\AppData\\Local\\Temp/ipykernel_21068/50137430.py\u001b[0m in \u001b[0;36mload_poly_features\u001b[1;34m(df_train, df_test, cols)\u001b[0m\n\u001b[0;32m     29\u001b[0m \u001b[1;33m\u001b[0m\u001b[0m\n\u001b[0;32m     30\u001b[0m     df_poly_features = pd.DataFrame(poly_features,\n\u001b[1;32m---> 31\u001b[1;33m                                     columns=poly_transformer.get_feature_names(cols))\n\u001b[0m\u001b[0;32m     32\u001b[0m     df_poly_features_test = pd.DataFrame(poly_features_test,\n\u001b[0;32m     33\u001b[0m                                          columns=poly_transformer.get_feature_names(cols))\n",
      "\u001b[1;31mAttributeError\u001b[0m: 'PolynomialFeatures' object has no attribute 'get_feature_names'"
     ]
    }
   ],
   "source": [
    "correlated_cols = ['OverallQual', 'GrLivArea', 'GarageCars', 'GarageArea', 'TotalBsmtSF', '1stFlrSF']\n",
    "df_train_poly, df_test_poly =  load_poly_features(df_train, df_test, cols=correlated_cols)\n",
    "print(\"Shape train: %s, test: %s\" % (df_train_poly.shape, df_test_poly.shape))"
   ]
  },
  {
   "cell_type": "code",
   "execution_count": null,
   "metadata": {},
   "outputs": [],
   "source": [
    "df_train = df_train.merge(right=df_train_poly.reset_index(), how='left', on='Id')\n",
    "df_test = df_test.merge(right=df_test_poly.reset_index(), how='left', on='Id')\n",
    "print(\"Shape train: %s, test: %s\" % (df_train.shape, df_test.shape))"
   ]
  },
  {
   "cell_type": "code",
   "execution_count": 15,
   "metadata": {},
   "outputs": [
    {
     "data": {
      "text/plain": [
       "467    11.894788\n",
       "400    12.411056\n",
       "300    11.964007\n",
       "Name: SalePrice, dtype: float64"
      ]
     },
     "execution_count": 15,
     "metadata": {},
     "output_type": "execute_result"
    }
   ],
   "source": [
    "y = df_train[\"SalePrice\"]\n",
    "y.sample(3)"
   ]
  },
  {
   "cell_type": "code",
   "execution_count": 43,
   "metadata": {},
   "outputs": [
    {
     "name": "stdout",
     "output_type": "stream",
     "text": [
      "Shape train: (1456, 445), test: (1459, 445)\n"
     ]
    }
   ],
   "source": [
    "df_train.drop([\"SalePrice\"], axis=1, inplace=True)\n",
    "# The fix missing cols above will have added the target column to the test data frame, so this is a workaround to remove it\n",
    "df_test.drop([\"SalePrice\"], axis=1, inplace=True) \n",
    "print(\"Shape train: %s, test: %s\" % (df_train.shape, df_test.shape))"
   ]
  },
  {
   "cell_type": "code",
   "execution_count": 45,
   "metadata": {},
   "outputs": [],
   "source": [
    "X_train, X_test, y_train, y_test = train_test_split( df_train, y, test_size=0.2, random_state=42)\n",
    "hyper_params = {\n",
    "    'task': 'train',\n",
    "    'boosting_type': 'gbdt',\n",
    "    'objective': 'regression',\n",
    "    'metric': ['l1','l2'],\n",
    "    'learning_rate': 0.005,\n",
    "    'feature_fraction': 0.9,\n",
    "    'bagging_fraction': 0.7,\n",
    "    'bagging_freq': 10,\n",
    "    'verbose': 0,\n",
    "    \"max_depth\": 8,\n",
    "    \"num_leaves\": 128,  \n",
    "    \"max_bin\": 512,\n",
    "    \"num_iterations\": 100000\n",
    "}"
   ]
  },
  {
   "cell_type": "code",
   "execution_count": 46,
   "metadata": {},
   "outputs": [],
   "source": [
    "gbm = lgb.LGBMRegressor(**hyper_params)"
   ]
  },
  {
   "cell_type": "code",
   "execution_count": null,
   "metadata": {},
   "outputs": [],
   "source": [
    "gbm.fit(X_train, y_train,\n",
    "        eval_set=[(X_test, y_test)],\n",
    "        eval_metric='l1',\n",
    "        early_stopping_rounds=1000)"
   ]
  },
  {
   "cell_type": "code",
   "execution_count": 48,
   "metadata": {},
   "outputs": [],
   "source": [
    "y_pred = gbm.predict(X_train, num_iteration=gbm.best_iteration_)"
   ]
  },
  {
   "cell_type": "code",
   "execution_count": 49,
   "metadata": {},
   "outputs": [
    {
     "name": "stdout",
     "output_type": "stream",
     "text": [
      "The rmse of prediction is: 0.00315\n"
     ]
    }
   ],
   "source": [
    "# Basic RMSE\n",
    "print('The rmse of prediction is:', round(mean_squared_log_error(y_pred, y_train) ** 0.5, 5))"
   ]
  },
  {
   "cell_type": "code",
   "execution_count": 57,
   "metadata": {},
   "outputs": [],
   "source": [
    "test_pred = np.expm1(gbm.predict(df_test, num_iteration=gbm.best_iteration_))"
   ]
  },
  {
   "cell_type": "code",
   "execution_count": 61,
   "metadata": {},
   "outputs": [],
   "source": [
    "# save sample data for testing\n",
    "with open(\"./data/house_costs_sample.csv\", \"w\") as sample_out:\n",
    "    df_test[:10].to_csv(sample_out, index=False)"
   ]
  },
  {
   "cell_type": "markdown",
   "metadata": {},
   "source": [
    "## Write process function\n",
    "\n",
    "* Must take bytes as input\n",
    "* Preprocess bytes, run inference, postprocess model output, return results"
   ]
  },
  {
   "cell_type": "code",
   "execution_count": 71,
   "metadata": {},
   "outputs": [],
   "source": [
    "def process(input_bytes):\n",
    "    inputs = pd.read_csv(StringIO(str(input_bytes, \"utf-8\")))\n",
    "    preds = np.expm1(gbm.predict(inputs, num_iteration=gbm.best_iteration_))\n",
    "    \n",
    "    inference_result = {\n",
    "        \"costPredictions\": [\n",
    "            {\"house\": i+1, \"cost\": pred} for i, pred in enumerate(preds)\n",
    "        ]\n",
    "    }\n",
    "    \n",
    "    structured_output = {\n",
    "        \"data\": {\n",
    "            \"result\": inference_result,\n",
    "            \"explanation\": None,\n",
    "            \"drift\": None,\n",
    "        }\n",
    "    }\n",
    "    \n",
    "    return structured_output"
   ]
  },
  {
   "cell_type": "markdown",
   "metadata": {},
   "source": [
    "## Initialize Chassis Client\n",
    "We'll use this to interact with the Chassis service"
   ]
  },
  {
   "cell_type": "code",
   "execution_count": 72,
   "metadata": {},
   "outputs": [],
   "source": [
    "chassis_client = chassisml.ChassisClient(\"http://localhost:5000\")"
   ]
  },
  {
   "cell_type": "markdown",
   "metadata": {},
   "source": [
    "## Create and test Chassis model\n",
    "* Requires `process_fn` defined above"
   ]
  },
  {
   "cell_type": "code",
   "execution_count": 74,
   "metadata": {
    "scrolled": true
   },
   "outputs": [
    {
     "name": "stdout",
     "output_type": "stream",
     "text": [
      "b'{\"data\":{\"result\":{\"costPredictions\":[{\"house\":1,\"cost\":125291.13397091045},{\"house\":2,\"cost\":151243.23557382918},{\"house\":3,\"cost\":178881.75963017135},{\"house\":4,\"cost\":179441.95798803744},{\"house\":5,\"cost\":176552.3993226991},{\"house\":6,\"cost\":172862.2578119226},{\"house\":7,\"cost\":171079.47671552232},{\"house\":8,\"cost\":165387.66148937555},{\"house\":9,\"cost\":178519.63148438587},{\"house\":10,\"cost\":113122.67807656695}]},\"explanation\":null,\"drift\":null}}'\n"
     ]
    }
   ],
   "source": [
    "# create Chassis model\n",
    "chassis_model = chassis_client.create_model(process_fn=process)\n",
    "\n",
    "# test Chassis model locally (can pass filepath, bufferedreader, bytes, or text here):\n",
    "sample_filepath = './data/house_costs_sample.csv'\n",
    "results = chassis_model.test(sample_filepath)\n",
    "print(results)"
   ]
  },
  {
   "cell_type": "code",
   "execution_count": 75,
   "metadata": {},
   "outputs": [
    {
     "name": "stdout",
     "output_type": "stream",
     "text": [
      "Starting test job... Ok!\n",
      "{'model_output': 'Single input prediction:\\n\\nb\\'{\"data\":{\"result\":{\"costPredictions\":[{\"house\":1,\"cost\":125291.13397091045},{\"house\":2,\"cost\":151243.23557382918},{\"house\":3,\"cost\":178881.75963017135},{\"house\":4,\"cost\":179441.95798803744},{\"house\":5,\"cost\":176552.3993226991},{\"house\":6,\"cost\":172862.2578119226},{\"house\":7,\"cost\":171079.47671552235},{\"house\":8,\"cost\":165387.66148937555},{\"house\":9,\"cost\":178519.63148438587},{\"house\":10,\"cost\":113122.67807656695}]},\"explanation\":null,\"drift\":null}}\\'\\n'}\n"
     ]
    }
   ],
   "source": [
    "# test environment and model within Chassis service, must pass filepath here:\n",
    "\n",
    "# dry run before build\n",
    "test_env_result = chassis_model.test_env(sample_filepath)\n",
    "print(test_env_result)"
   ]
  },
  {
   "cell_type": "markdown",
   "metadata": {},
   "source": [
    "## Publish model to Docker\n",
    "Need to provide model name, model version, and Dockerhub credentials"
   ]
  },
  {
   "cell_type": "code",
   "execution_count": 76,
   "metadata": {},
   "outputs": [
    {
     "name": "stdout",
     "output_type": "stream",
     "text": [
      "Starting build job... Ok!\n"
     ]
    }
   ],
   "source": [
    "response = chassis_model.publish(\n",
    "    model_name=\"Chassis LightGBM House Price Regression\",\n",
    "    model_version=\"0.0.1\",\n",
    "    registry_user=dockerhub_user,\n",
    "    registry_pass=dockerhub_pass,\n",
    ")\n",
    "\n",
    "job_id = response.get('job_id')\n",
    "final_status = chassis_client.block_until_complete(job_id)"
   ]
  },
  {
   "cell_type": "code",
   "execution_count": 77,
   "metadata": {},
   "outputs": [
    {
     "name": "stdout",
     "output_type": "stream",
     "text": [
      "New model URL: https://integration.modzy.engineering/models/suo2xen59n/0.0.1\n"
     ]
    }
   ],
   "source": [
    "if chassis_client.get_job_status(job_id)[\"result\"] is not None:\n",
    "    print(\"New model URL: {}\".format(chassis_client.get_job_status(job_id)[\"result\"][\"container_url\"]))\n",
    "else:\n",
    "    print(\"Chassis job failed \\n\\n {}\".format(chassis_client.get_job_status(job_id)))"
   ]
  },
  {
   "cell_type": "code",
   "execution_count": null,
   "metadata": {},
   "outputs": [],
   "source": []
  }
 ],
 "metadata": {
  "interpreter": {
   "hash": "95ab8d3bdd708a5b71676285742277315a30b0df1ed91c8905076616709c59d5"
  },
  "kernelspec": {
   "display_name": "Python 3 (ipykernel)",
   "language": "python",
   "name": "python3"
  },
  "language_info": {
   "codemirror_mode": {
    "name": "ipython",
    "version": 3
   },
   "file_extension": ".py",
   "mimetype": "text/x-python",
   "name": "python",
   "nbconvert_exporter": "python",
   "pygments_lexer": "ipython3",
   "version": "3.9.7"
  }
 },
 "nbformat": 4,
 "nbformat_minor": 2
}
