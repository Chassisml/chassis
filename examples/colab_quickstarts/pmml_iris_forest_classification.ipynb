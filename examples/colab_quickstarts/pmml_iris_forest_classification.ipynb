{
 "cells": [
  {
   "cell_type": "markdown",
   "metadata": {},
   "source": [
    "## Chassisml Example Notebooks\n",
    "Welcome to the examples section for [Chassis.ml](https://chassis.ml), which contains notebooks that leverage Chassisml to auto-containerize models built using the most common machine learning frameworks. \n",
    "\n",
    "**NOTE:** Chassisml provides two key functionalities: \n",
    "1. Create a Docker container from your model code and push that container image to a Docker registry. This is the default behavior.\n",
    "2. Should you pass valid Modzy credentials as optional parameters, Chassisml will take the container and upload it directly to the Modzy environment you specify. You will notice most of these notebooks deploy the model to one of the Modzy internal development environments.   \n",
    "\n",
    "Can't find the framework you are looking for or need help? Fork this repository and open a PR, we're always interested in growing this example bank! \n",
    "\n",
    "The primary maintainers of Chassis also actively monitor our [Discord Server](https://discord.gg/cHpzY9yCcM), so feel free to join and ask any questions you might have. We'll be there to respond and help out promptly."
   ]
  },
  {
   "cell_type": "code",
   "execution_count": null,
   "metadata": {},
   "outputs": [],
   "source": [
    "#install chassisml and force runtime reboot\n",
    "!pip install chassisml sklearn-pmml-model\n",
    "import os\n",
    "os.kill(os.getpid(), 9)"
   ]
  },
  {
   "cell_type": "code",
   "execution_count": 2,
   "metadata": {},
   "outputs": [],
   "source": [
    "import chassisml\n",
    "import numpy as np\n",
    "import getpass\n",
    "import requests\n",
    "from io import StringIO,BytesIO\n",
    "from sklearn.datasets import load_iris\n",
    "from sklearn.model_selection import train_test_split\n",
    "import pandas as pd\n",
    "import numpy as np\n",
    "from sklearn_pmml_model.ensemble import PMMLForestClassifier"
   ]
  },
  {
   "cell_type": "markdown",
   "metadata": {},
   "source": [
    "## Enter credentials\n",
    "Dockerhub creds and Modzy API Key"
   ]
  },
  {
   "cell_type": "code",
   "execution_count": null,
   "metadata": {},
   "outputs": [],
   "source": [
    "dockerhub_user = getpass.getpass('docker hub username')\n",
    "dockerhub_pass = getpass.getpass('docker hub password')"
   ]
  },
  {
   "cell_type": "markdown",
   "metadata": {},
   "source": [
    "## Load and Test Model from PMML File"
   ]
  },
  {
   "cell_type": "code",
   "execution_count": 4,
   "metadata": {},
   "outputs": [],
   "source": [
    "# Prepare data\n",
    "iris = load_iris()\n",
    "X = pd.DataFrame(iris.data)\n",
    "X.columns = np.array(iris.feature_names)\n",
    "y = pd.Series(np.array(iris.target_names)[iris.target])\n",
    "y.name = \"Class\"\n",
    "Xtr, Xte, ytr, yte = train_test_split(X, y, test_size=0.33, random_state=123)\n",
    "\n",
    "# Create sample data for testing later\n",
    "with open(\"./sample_iris.csv\", \"w\") as f:\n",
    "    Xte[:10].to_csv(f, index=False)"
   ]
  },
  {
   "cell_type": "code",
   "execution_count": 5,
   "metadata": {},
   "outputs": [
    {
     "data": {
      "text/plain": [
       "1.0"
      ]
     },
     "execution_count": 5,
     "metadata": {},
     "output_type": "execute_result"
    }
   ],
   "source": [
    "# download sample pmml model:\n",
    "data = requests.get(\"https://github.com/modzy/chassis/raw/colab_notebooks/chassisml_sdk/examples/colab_quickstarts/models/randomForest.pmml\")\n",
    "fileobj = BytesIO(data.content)\n",
    "\n",
    "# write model to file\n",
    "sample_filepath = \"./randomForest.pmml\"\n",
    "with open(sample_filepath, \"wb\") as outfile:\n",
    "  outfile.write(fileobj.getbuffer())\n",
    "\n",
    "# Load model\n",
    "clf = PMMLForestClassifier(pmml=\"./randomForest.pmml\")\n",
    "labels = clf.classes_.tolist()\n",
    "\n",
    "# Test model\n",
    "clf.predict(Xte)\n",
    "clf.score(Xte, yte)"
   ]
  },
  {
   "cell_type": "markdown",
   "metadata": {},
   "source": [
    "## Prepare pre and post-processing methods\n",
    "Initialize anything here that should persist across inference runs"
   ]
  },
  {
   "cell_type": "code",
   "execution_count": 6,
   "metadata": {},
   "outputs": [],
   "source": [
    "def preprocess_inputs(raw_input_bytes):\n",
    "    # load data\n",
    "    inputs = pd.read_csv(StringIO(str(raw_input_bytes, \"utf-8\")))\n",
    "    return inputs\n",
    "\n",
    "def postprocess_outputs(raw_predictions):\n",
    "    # process output\n",
    "    inference_result = {\n",
    "        \"result\":[\n",
    "            {\n",
    "                \"row\": i+1,\n",
    "                \"classPredictions\": [\n",
    "                    {\"class\": labels[idx], \"score\": results[idx]}\n",
    "                    for idx in np.argsort(results)[::-1]\n",
    "                ]  \n",
    "            } for i, results in enumerate(raw_predictions)\n",
    "        ] \n",
    "\n",
    "    }    \n",
    "    \n",
    "    \n",
    "    # format output\n",
    "    structured_output = {\n",
    "        \"data\": {\n",
    "            \"result\": inference_result[\"result\"],\n",
    "            \"explanation\": None,\n",
    "            \"drift\": None,\n",
    "        }\n",
    "    }\n",
    "    \n",
    "    return structured_output"
   ]
  },
  {
   "cell_type": "markdown",
   "metadata": {},
   "source": [
    "## Write process function\n",
    "\n",
    "* Must take bytes as input\n",
    "* Preprocess bytes, run inference, postprocess model output, return results"
   ]
  },
  {
   "cell_type": "code",
   "execution_count": 9,
   "metadata": {},
   "outputs": [],
   "source": [
    "def process(input_bytes):\n",
    "    # load data\n",
    "    inputs = preprocess_inputs(input_bytes)\n",
    "    # make predictions\n",
    "    output = clf.predict_proba(inputs)\n",
    "    # process output\n",
    "    structured_output = postprocess_outputs(output)\n",
    "    return structured_output"
   ]
  },
  {
   "cell_type": "markdown",
   "metadata": {},
   "source": [
    "## Initialize Chassis Client\n",
    "We'll use this to interact with the Chassis service"
   ]
  },
  {
   "cell_type": "code",
   "execution_count": 14,
   "metadata": {},
   "outputs": [],
   "source": [
    "chassis_client = chassisml.ChassisClient(\"http://localhost:5000\")"
   ]
  },
  {
   "cell_type": "markdown",
   "metadata": {},
   "source": [
    "## Create and test Chassis model\n",
    "* Requires `process_fn` defined above"
   ]
  },
  {
   "cell_type": "code",
   "execution_count": 15,
   "metadata": {
    "scrolled": true
   },
   "outputs": [
    {
     "name": "stdout",
     "output_type": "stream",
     "text": [
      "b'{\"data\":{\"result\":[{\"row\":1,\"classPredictions\":[{\"class\":\"versicolor\",\"score\":0.76},{\"class\":\"virginica\",\"score\":0.24},{\"class\":\"setosa\",\"score\":0.0}]},{\"row\":2,\"classPredictions\":[{\"class\":\"virginica\",\"score\":0.995},{\"class\":\"versicolor\",\"score\":0.005},{\"class\":\"setosa\",\"score\":0.0}]},{\"row\":3,\"classPredictions\":[{\"class\":\"virginica\",\"score\":1.0},{\"class\":\"versicolor\",\"score\":0.0},{\"class\":\"setosa\",\"score\":0.0}]},{\"row\":4,\"classPredictions\":[{\"class\":\"versicolor\",\"score\":1.0},{\"class\":\"virginica\",\"score\":0.0},{\"class\":\"setosa\",\"score\":0.0}]},{\"row\":5,\"classPredictions\":[{\"class\":\"setosa\",\"score\":1.0},{\"class\":\"virginica\",\"score\":0.0},{\"class\":\"versicolor\",\"score\":0.0}]},{\"row\":6,\"classPredictions\":[{\"class\":\"virginica\",\"score\":0.82},{\"class\":\"versicolor\",\"score\":0.18},{\"class\":\"setosa\",\"score\":0.0}]},{\"row\":7,\"classPredictions\":[{\"class\":\"versicolor\",\"score\":0.995},{\"class\":\"virginica\",\"score\":0.005},{\"class\":\"setosa\",\"score\":0.0}]},{\"row\":8,\"classPredictions\":[{\"class\":\"setosa\",\"score\":1.0},{\"class\":\"virginica\",\"score\":0.0},{\"class\":\"versicolor\",\"score\":0.0}]},{\"row\":9,\"classPredictions\":[{\"class\":\"setosa\",\"score\":1.0},{\"class\":\"virginica\",\"score\":0.0},{\"class\":\"versicolor\",\"score\":0.0}]},{\"row\":10,\"classPredictions\":[{\"class\":\"versicolor\",\"score\":0.98},{\"class\":\"virginica\",\"score\":0.02},{\"class\":\"setosa\",\"score\":0.0}]}],\"explanation\":null,\"drift\":null}}'\n"
     ]
    }
   ],
   "source": [
    "# create Chassis model\n",
    "chassis_model = chassis_client.create_model(process_fn=process)\n",
    "\n",
    "# test Chassis model locally (can pass filepath, bufferedreader, bytes, or text here):\n",
    "sample_filepath = './sample_iris.csv'\n",
    "results = chassis_model.test(sample_filepath)\n",
    "print(results)"
   ]
  },
  {
   "cell_type": "markdown",
   "metadata": {},
   "source": [
    "## Publish model to Dockerhub\n",
    "Need to provide model name, model version, Dockerhub credentials"
   ]
  },
  {
   "cell_type": "code",
   "execution_count": null,
   "metadata": {},
   "outputs": [],
   "source": [
    "response = chassis_model.publish(\n",
    "    model_name=\"PMML Random Forest Iris Classification\",\n",
    "    model_version=\"0.0.1\",\n",
    "    registry_user=dockerhub_user,\n",
    "    registry_pass=dockerhub_pass\n",
    ")\n",
    "\n",
    "job_id = response.get('job_id')\n",
    "final_status = chassis_client.block_until_complete(job_id)\n",
    "print(final_status)"
   ]
  }
 ],
 "metadata": {
  "interpreter": {
   "hash": "95ab8d3bdd708a5b71676285742277315a30b0df1ed91c8905076616709c59d5"
  },
  "kernelspec": {
   "display_name": "chassis-demo-1",
   "language": "python",
   "name": "chassis-demo-1"
  },
  "language_info": {
   "codemirror_mode": {
    "name": "ipython",
    "version": 3
   },
   "file_extension": ".py",
   "mimetype": "text/x-python",
   "name": "python",
   "nbconvert_exporter": "python",
   "pygments_lexer": "ipython3",
   "version": "3.8.5"
  }
 },
 "nbformat": 4,
 "nbformat_minor": 2
}